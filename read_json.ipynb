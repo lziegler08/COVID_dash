{
 "cells": [
  {
   "cell_type": "code",
<<<<<<< Updated upstream
   "execution_count": 48,
   "metadata": {},
   "outputs": [
    {
     "name": "stdout",
     "output_type": "stream",
     "text": [
      "USA\n",
      "France\n",
      "Country: France\n",
      "population: 65584518\n",
      "total cases: 159026\n",
      "Brazil\n",
      "Austria\n",
      "Greece\n",
      "Monaco\n"
     ]
    }
   ],
   "source": [
    "import json\n",
    "\n",
    "f = open('world-o-meter_2022-12-01.json')\n",
    "\n",
    "data = json.load(f)\n",
    "\n",
    "# print(data.keys())  # Display keys in data set\n",
    "pos = 'France' # Country to use\n",
    "for i, country in enumerate(data['name']):\n",
    "    # print(i)\n",
    "    print(country)\n",
    "    if country == pos:\n",
    "        pop = data['population'][i]\n",
    "        tot_cases = data['total cases'][i]\n",
    "        print('Country:', country)\n",
    "        print('population:', pop)\n",
    "        print('total cases:', tot_cases)\n",
    "\n",
    "f.close()"
   ]
  }
 ],
 "metadata": {
  "kernelspec": {
   "display_name": "Python 3.9.13 ('prog_env')",
   "language": "python",
   "name": "python3"
  },
  "language_info": {
   "codemirror_mode": {
    "name": "ipython",
    "version": 3
   },
   "file_extension": ".py",
   "mimetype": "text/x-python",
   "name": "python",
   "nbconvert_exporter": "python",
   "pygments_lexer": "ipython3",
   "version": "3.9.13"
  },
  "orig_nbformat": 4,
  "vscode": {
   "interpreter": {
    "hash": "c333a0b1f8b920b406a8aef5c153ea51a20feae05c6c26c8e160f6d749d50371"
   }
  }
=======
   "execution_count": null,
   "metadata": {},
   "outputs": [],
   "source": []
  }
 ],
 "metadata": {
  "language_info": {
   "name": "python"
  },
  "orig_nbformat": 4
>>>>>>> Stashed changes
 },
 "nbformat": 4,
 "nbformat_minor": 2
}
